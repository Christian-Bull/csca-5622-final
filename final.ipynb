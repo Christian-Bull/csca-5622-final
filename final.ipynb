{
 "cells": [
  {
   "cell_type": "code",
   "execution_count": 1,
   "id": "60ed9b0f-018f-4118-8e54-face64c3c1d4",
   "metadata": {},
   "outputs": [],
   "source": [
    "import numpy as np\n",
    "import scipy as sp\n",
    "import scipy.stats as stats\n",
    "import pandas as pd\n",
    "import matplotlib.pyplot as plt\n",
    "import seaborn as sns\n",
    "# Set color map to have light blue background\n",
    "sns.set()\n",
    "import statsmodels.formula.api as smf\n",
    "import statsmodels.api as sm"
   ]
  },
  {
   "cell_type": "markdown",
   "id": "ec67cba3",
   "metadata": {},
   "source": [
    "London bike sharing dataset\n",
    "========\n",
    "\n",
    "The data from cycling dataset is grouped by \"Start time\", this represent the count of new bike shares grouped by hour. The long duration shares are not taken in the count.\n",
    "\n",
    "Metadata:\n",
    "---\n",
    "\n",
    "\"timestamp\" - timestamp field for grouping the data  \n",
    "\"cnt\" - the count of a new bike shares  \n",
    "\"t1\" - real temperature in C  \n",
    "\"t2\" - temperature in C \"feels like\"  \n",
    "\"hum\" - humidity in percentage  \n",
    "\"wind_speed\" - wind speed in km/h  \n",
    "\"weather_code\" - category of the weather  \n",
    "\"is_holiday\" - boolean field - 1 holiday / 0 non holiday  \n",
    "\"is_weekend\" - boolean field - 1 if the day is weekend  \n",
    "\"season\" - category field meteorological seasons: 0-spring ; 1-summer; 2-fall; 3-winter.  \n",
    "\n",
    "\"weather_code\" category description:  \n",
    "1 = Clear ; mostly clear but have some values with haze/fog/patches of fog/ fog in vicinity  \n",
    "2 = scattered clouds / few clouds  \n",
    "3 = Broken clouds  \n",
    "4 = Cloudy  \n",
    "7 = Rain/ light Rain shower/ Light rain  \n",
    "10 = rain with thunderstorm  \n",
    "26 = snowfall  \n",
    "94 = Freezing Fog  "
   ]
  },
  {
   "cell_type": "code",
   "execution_count": null,
   "id": "04d7cd6a-f8bc-44f1-a0fe-fdac42bf5529",
   "metadata": {},
   "outputs": [
    {
     "name": "stdout",
     "output_type": "stream",
     "text": [
      "            timestamp  count  temperature_actual  temperature_feels_like  \\\n",
      "0 2015-01-04 00:00:00    182                 3.0                     2.0   \n",
      "1 2015-01-04 01:00:00    138                 3.0                     2.5   \n",
      "2 2015-01-04 02:00:00    134                 2.5                     2.5   \n",
      "3 2015-01-04 03:00:00     72                 2.0                     2.0   \n",
      "4 2015-01-04 04:00:00     47                 2.0                     0.0   \n",
      "\n",
      "   humidity  wind_speed  weather_code  is_holiday  is_weekend  season  \\\n",
      "0      93.0         6.0           3.0         0.0         1.0     3.0   \n",
      "1      93.0         5.0           1.0         0.0         1.0     3.0   \n",
      "2      96.5         0.0           1.0         0.0         1.0     3.0   \n",
      "3     100.0         0.0           1.0         0.0         1.0     3.0   \n",
      "4      93.0         6.5           1.0         0.0         1.0     3.0   \n",
      "\n",
      "         date weather_description  \n",
      "0  2015-01-04       Broken Clouds  \n",
      "1  2015-01-04        Clear or Fog  \n",
      "2  2015-01-04        Clear or Fog  \n",
      "3  2015-01-04        Clear or Fog  \n",
      "4  2015-01-04        Clear or Fog  \n"
     ]
    }
   ],
   "source": [
    "# import data\n",
    "bikeshare_data = pd.read_csv(\"data/london_merged_hour.csv\")\n",
    "\n",
    "# reformat\n",
    "bikeshare_data['timestamp'] = pd.to_datetime(bikeshare_data['timestamp'])\n",
    "\n",
    "# Set the date (without time) as a new column\n",
    "bikeshare_data['date'] = bikeshare_data['timestamp'].dt.date\n",
    "\n",
    "# weather code\n",
    "weather_code_map = {\n",
    "    1:  \"Clear or Fog\",\n",
    "    2:  \"Few Clouds\",\n",
    "    3:  \"Broken Clouds\",\n",
    "    4:  \"Cloudy\",\n",
    "    7:  \"Light Rain\",\n",
    "    10: \"Thunderstorm with Rain\",\n",
    "    26: \"Snowfall\",\n",
    "    94: \"Freezing Fog\"\n",
    "}\n",
    "\n",
    "# include weather description for each entry\n",
    "bikeshare_data['weather_description'] = bikeshare_data['weather_code'].map(weather_code_map)\n",
    "\n",
    "# rename columns to be more readable\n",
    "bikeshare_data = bikeshare_data.rename(columns={\n",
    "    'cnt': 'count',\n",
    "    't1': 'temperature_actual',\n",
    "    't2': 'temperature_feels_like',\n",
    "    'hum': 'humidity',\n",
    "    'weather_code': 'weather_condition_code',\n",
    "    'wind_speed': 'wind_speed',\n",
    "    'is_holiday': 'is_holiday',\n",
    "    'is_weekend': 'is_weekend',\n",
    "    'season': 'season',\n",
    "    'date': 'date',\n",
    "    'weather_code': 'weather_code'\n",
    "})\n"
   ]
  }
 ],
 "metadata": {
  "kernelspec": {
   "display_name": "Python 3",
   "language": "python",
   "name": "python3"
  },
  "language_info": {
   "codemirror_mode": {
    "name": "ipython",
    "version": 3
   },
   "file_extension": ".py",
   "mimetype": "text/x-python",
   "name": "python",
   "nbconvert_exporter": "python",
   "pygments_lexer": "ipython3",
   "version": "3.12.1"
  }
 },
 "nbformat": 4,
 "nbformat_minor": 5
}
